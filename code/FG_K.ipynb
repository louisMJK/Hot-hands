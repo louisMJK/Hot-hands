{
 "metadata": {
  "language_info": {
   "codemirror_mode": {
    "name": "ipython",
    "version": 3
   },
   "file_extension": ".py",
   "mimetype": "text/x-python",
   "name": "python",
   "nbconvert_exporter": "python",
   "pygments_lexer": "ipython3",
   "version": "3.7.0-final"
  },
  "orig_nbformat": 2,
  "kernelspec": {
   "name": "python37064bit614aec88312f471fb0143ff3b91557ee",
   "display_name": "Python 3.7.0 64-bit",
   "language": "python"
  }
 },
 "nbformat": 4,
 "nbformat_minor": 2,
 "cells": [
  {
   "cell_type": "code",
   "execution_count": 1,
   "metadata": {},
   "outputs": [],
   "source": [
    "import pandas as pd\n",
    "import numpy as np"
   ]
  },
  {
   "cell_type": "code",
   "execution_count": 2,
   "metadata": {},
   "outputs": [
    {
     "output_type": "execute_result",
     "data": {
      "text/plain": [
       "   PLAYER_ID  K\n",
       "0        708  1"
      ],
      "text/html": "<div>\n<style scoped>\n    .dataframe tbody tr th:only-of-type {\n        vertical-align: middle;\n    }\n\n    .dataframe tbody tr th {\n        vertical-align: top;\n    }\n\n    .dataframe thead th {\n        text-align: right;\n    }\n</style>\n<table border=\"1\" class=\"dataframe\">\n  <thead>\n    <tr style=\"text-align: right;\">\n      <th></th>\n      <th>PLAYER_ID</th>\n      <th>K</th>\n    </tr>\n  </thead>\n  <tbody>\n    <tr>\n      <th>0</th>\n      <td>708</td>\n      <td>1</td>\n    </tr>\n  </tbody>\n</table>\n</div>"
     },
     "metadata": {},
     "execution_count": 2
    }
   ],
   "source": [
    "path = '../result/ID_K.csv'\n",
    "df = pd.read_csv(path)\n",
    "df.head(1)"
   ]
  },
  {
   "cell_type": "code",
   "execution_count": 3,
   "metadata": {},
   "outputs": [
    {
     "output_type": "execute_result",
     "data": {
      "text/plain": [
       "472"
      ]
     },
     "metadata": {},
     "execution_count": 3
    }
   ],
   "source": [
    "ID = []\n",
    "for i in range(df.shape[0]):\n",
    "    if df['PLAYER_ID'][i] not in ID:\n",
    "        ID.append(df['PLAYER_ID'][i])\n",
    "len(ID)"
   ]
  },
  {
   "cell_type": "code",
   "execution_count": 4,
   "metadata": {},
   "outputs": [
    {
     "output_type": "execute_result",
     "data": {
      "text/plain": [
       "   PLAYER_ID  FG_K_1  FG_K_2  FG_K_3  FG_K_4  FG_K_5  FG_K_6  FG_K_7  FG_K_8  \\\n",
       "0        708    -1.0    -1.0    -1.0    -1.0    -1.0    -1.0    -1.0    -1.0   \n",
       "1        951    -1.0    -1.0    -1.0    -1.0    -1.0    -1.0    -1.0    -1.0   \n",
       "2        959    -1.0    -1.0    -1.0    -1.0    -1.0    -1.0    -1.0    -1.0   \n",
       "\n",
       "   FG_K_9  FG_K_10  FG_K_11  FG_K_12  \n",
       "0    -1.0     -1.0     -1.0     -1.0  \n",
       "1    -1.0     -1.0     -1.0     -1.0  \n",
       "2    -1.0     -1.0     -1.0     -1.0  "
      ],
      "text/html": "<div>\n<style scoped>\n    .dataframe tbody tr th:only-of-type {\n        vertical-align: middle;\n    }\n\n    .dataframe tbody tr th {\n        vertical-align: top;\n    }\n\n    .dataframe thead th {\n        text-align: right;\n    }\n</style>\n<table border=\"1\" class=\"dataframe\">\n  <thead>\n    <tr style=\"text-align: right;\">\n      <th></th>\n      <th>PLAYER_ID</th>\n      <th>FG_K_1</th>\n      <th>FG_K_2</th>\n      <th>FG_K_3</th>\n      <th>FG_K_4</th>\n      <th>FG_K_5</th>\n      <th>FG_K_6</th>\n      <th>FG_K_7</th>\n      <th>FG_K_8</th>\n      <th>FG_K_9</th>\n      <th>FG_K_10</th>\n      <th>FG_K_11</th>\n      <th>FG_K_12</th>\n    </tr>\n  </thead>\n  <tbody>\n    <tr>\n      <th>0</th>\n      <td>708</td>\n      <td>-1.0</td>\n      <td>-1.0</td>\n      <td>-1.0</td>\n      <td>-1.0</td>\n      <td>-1.0</td>\n      <td>-1.0</td>\n      <td>-1.0</td>\n      <td>-1.0</td>\n      <td>-1.0</td>\n      <td>-1.0</td>\n      <td>-1.0</td>\n      <td>-1.0</td>\n    </tr>\n    <tr>\n      <th>1</th>\n      <td>951</td>\n      <td>-1.0</td>\n      <td>-1.0</td>\n      <td>-1.0</td>\n      <td>-1.0</td>\n      <td>-1.0</td>\n      <td>-1.0</td>\n      <td>-1.0</td>\n      <td>-1.0</td>\n      <td>-1.0</td>\n      <td>-1.0</td>\n      <td>-1.0</td>\n      <td>-1.0</td>\n    </tr>\n    <tr>\n      <th>2</th>\n      <td>959</td>\n      <td>-1.0</td>\n      <td>-1.0</td>\n      <td>-1.0</td>\n      <td>-1.0</td>\n      <td>-1.0</td>\n      <td>-1.0</td>\n      <td>-1.0</td>\n      <td>-1.0</td>\n      <td>-1.0</td>\n      <td>-1.0</td>\n      <td>-1.0</td>\n      <td>-1.0</td>\n    </tr>\n  </tbody>\n</table>\n</div>"
     },
     "metadata": {},
     "execution_count": 4
    }
   ],
   "source": [
    "col = ['PLAYER_ID']\n",
    "for i in range(12):\n",
    "    col.append('FG_K_'+str(i+1))\n",
    "df_FG = pd.DataFrame(-np.ones((len(ID),13)), columns=col)\n",
    "df_FG['PLAYER_ID'] = ID\n",
    "df_FG.head(3)"
   ]
  },
  {
   "cell_type": "code",
   "execution_count": 5,
   "metadata": {
    "tags": []
   },
   "outputs": [
    {
     "output_type": "execute_result",
     "data": {
      "text/plain": [
       "   PLAYER_ID    FG_K_1    FG_K_2    FG_K_3    FG_K_4    FG_K_5  FG_K_6  \\\n",
       "0        708  0.500000  0.413043  0.642857  0.666667  0.333333     0.0   \n",
       "1        951  0.467742  0.507692  0.458333  0.222222  0.000000    -1.0   \n",
       "2        959  0.407407  0.200000  1.000000  0.000000 -1.000000    -1.0   \n",
       "3        965  0.357143  0.323529  0.625000  0.666667  0.000000    -1.0   \n",
       "4        977  0.650000  0.181818  0.000000 -1.000000 -1.000000    -1.0   \n",
       "\n",
       "   FG_K_7  FG_K_8  FG_K_9  FG_K_10  FG_K_11  FG_K_12  \n",
       "0    -1.0    -1.0    -1.0     -1.0     -1.0     -1.0  \n",
       "1    -1.0    -1.0    -1.0     -1.0     -1.0     -1.0  \n",
       "2    -1.0    -1.0    -1.0     -1.0     -1.0     -1.0  \n",
       "3    -1.0    -1.0    -1.0     -1.0     -1.0     -1.0  \n",
       "4    -1.0    -1.0    -1.0     -1.0     -1.0     -1.0  "
      ],
      "text/html": "<div>\n<style scoped>\n    .dataframe tbody tr th:only-of-type {\n        vertical-align: middle;\n    }\n\n    .dataframe tbody tr th {\n        vertical-align: top;\n    }\n\n    .dataframe thead th {\n        text-align: right;\n    }\n</style>\n<table border=\"1\" class=\"dataframe\">\n  <thead>\n    <tr style=\"text-align: right;\">\n      <th></th>\n      <th>PLAYER_ID</th>\n      <th>FG_K_1</th>\n      <th>FG_K_2</th>\n      <th>FG_K_3</th>\n      <th>FG_K_4</th>\n      <th>FG_K_5</th>\n      <th>FG_K_6</th>\n      <th>FG_K_7</th>\n      <th>FG_K_8</th>\n      <th>FG_K_9</th>\n      <th>FG_K_10</th>\n      <th>FG_K_11</th>\n      <th>FG_K_12</th>\n    </tr>\n  </thead>\n  <tbody>\n    <tr>\n      <th>0</th>\n      <td>708</td>\n      <td>0.500000</td>\n      <td>0.413043</td>\n      <td>0.642857</td>\n      <td>0.666667</td>\n      <td>0.333333</td>\n      <td>0.0</td>\n      <td>-1.0</td>\n      <td>-1.0</td>\n      <td>-1.0</td>\n      <td>-1.0</td>\n      <td>-1.0</td>\n      <td>-1.0</td>\n    </tr>\n    <tr>\n      <th>1</th>\n      <td>951</td>\n      <td>0.467742</td>\n      <td>0.507692</td>\n      <td>0.458333</td>\n      <td>0.222222</td>\n      <td>0.000000</td>\n      <td>-1.0</td>\n      <td>-1.0</td>\n      <td>-1.0</td>\n      <td>-1.0</td>\n      <td>-1.0</td>\n      <td>-1.0</td>\n      <td>-1.0</td>\n    </tr>\n    <tr>\n      <th>2</th>\n      <td>959</td>\n      <td>0.407407</td>\n      <td>0.200000</td>\n      <td>1.000000</td>\n      <td>0.000000</td>\n      <td>-1.000000</td>\n      <td>-1.0</td>\n      <td>-1.0</td>\n      <td>-1.0</td>\n      <td>-1.0</td>\n      <td>-1.0</td>\n      <td>-1.0</td>\n      <td>-1.0</td>\n    </tr>\n    <tr>\n      <th>3</th>\n      <td>965</td>\n      <td>0.357143</td>\n      <td>0.323529</td>\n      <td>0.625000</td>\n      <td>0.666667</td>\n      <td>0.000000</td>\n      <td>-1.0</td>\n      <td>-1.0</td>\n      <td>-1.0</td>\n      <td>-1.0</td>\n      <td>-1.0</td>\n      <td>-1.0</td>\n      <td>-1.0</td>\n    </tr>\n    <tr>\n      <th>4</th>\n      <td>977</td>\n      <td>0.650000</td>\n      <td>0.181818</td>\n      <td>0.000000</td>\n      <td>-1.000000</td>\n      <td>-1.000000</td>\n      <td>-1.0</td>\n      <td>-1.0</td>\n      <td>-1.0</td>\n      <td>-1.0</td>\n      <td>-1.0</td>\n      <td>-1.0</td>\n      <td>-1.0</td>\n    </tr>\n  </tbody>\n</table>\n</div>"
     },
     "metadata": {},
     "execution_count": 5
    }
   ],
   "source": [
    "for i in range(len(ID)):\n",
    "    df_ID = pd.DataFrame(df[df['PLAYER_ID']==ID[i]].values, columns=['PLAYER_ID','K'])\n",
    "    for k in range(1,13):\n",
    "        hit = 0\n",
    "        miss = 0\n",
    "        for m in range(df_ID.shape[0]):\n",
    "            if df_ID['K'][m] == k:\n",
    "                miss += 1\n",
    "            elif df_ID['K'][m] > k:\n",
    "                hit += df_ID['K'][m]-k\n",
    "        if hit + miss > 0:\n",
    "            df_FG['FG_K_'+str(k)][i] = hit/(hit+miss)\n",
    "df_FG.head()"
   ]
  },
  {
   "cell_type": "code",
   "execution_count": 6,
   "metadata": {},
   "outputs": [],
   "source": [
    "# df_FG.to_csv('../result/FG_K.csv'，index=False)"
   ]
  }
 ]
}