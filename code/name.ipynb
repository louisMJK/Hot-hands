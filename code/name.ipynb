{
 "metadata": {
  "language_info": {
   "codemirror_mode": {
    "name": "ipython",
    "version": 3
   },
   "file_extension": ".py",
   "mimetype": "text/x-python",
   "name": "python",
   "nbconvert_exporter": "python",
   "pygments_lexer": "ipython3",
   "version": "3.7.0-final"
  },
  "orig_nbformat": 2,
  "kernelspec": {
   "name": "python37064bit614aec88312f471fb0143ff3b91557ee",
   "display_name": "Python 3.7.0 64-bit",
   "language": "python"
  }
 },
 "nbformat": 4,
 "nbformat_minor": 2,
 "cells": [
  {
   "cell_type": "code",
   "execution_count": 1,
   "metadata": {},
   "outputs": [],
   "source": [
    "import pandas as pd\n",
    "import numpy as np"
   ]
  },
  {
   "cell_type": "code",
   "execution_count": 2,
   "metadata": {},
   "outputs": [],
   "source": [
    "path = 'E:\\\\repo\\\\Hot-hands\\\\data\\\\shots_13-14.csv'\n",
    "df = pd.read_csv(path)"
   ]
  },
  {
   "cell_type": "code",
   "execution_count": 3,
   "metadata": {},
   "outputs": [],
   "source": [
    "df = pd.DataFrame(df[['PLAYER_NAME','PLAYER_ID']])"
   ]
  },
  {
   "source": [
    "Curry 201939  \n",
    "KT    202691  \n",
    "James harden 201935  \n",
    "Kobe 977  \n",
    "PP 1718  \n",
    "LBJ 2544  \n",
    "D.ROse 201565"
   ],
   "cell_type": "markdown",
   "metadata": {}
  },
  {
   "cell_type": "code",
   "execution_count": 19,
   "metadata": {},
   "outputs": [
    {
     "output_type": "execute_result",
     "data": {
      "text/plain": [
       "          PLAYER_NAME  PLAYER_ID\n",
       "152049  Klay Thompson     202691\n",
       "152050  Klay Thompson     202691\n",
       "152051  Klay Thompson     202691\n",
       "152052  Klay Thompson     202691\n",
       "152053  Klay Thompson     202691\n",
       "...               ...        ...\n",
       "153266  Klay Thompson     202691\n",
       "153267  Klay Thompson     202691\n",
       "153268  Klay Thompson     202691\n",
       "153269  Klay Thompson     202691\n",
       "153270  Klay Thompson     202691\n",
       "\n",
       "[1222 rows x 2 columns]"
      ],
      "text/html": "<div>\n<style scoped>\n    .dataframe tbody tr th:only-of-type {\n        vertical-align: middle;\n    }\n\n    .dataframe tbody tr th {\n        vertical-align: top;\n    }\n\n    .dataframe thead th {\n        text-align: right;\n    }\n</style>\n<table border=\"1\" class=\"dataframe\">\n  <thead>\n    <tr style=\"text-align: right;\">\n      <th></th>\n      <th>PLAYER_NAME</th>\n      <th>PLAYER_ID</th>\n    </tr>\n  </thead>\n  <tbody>\n    <tr>\n      <th>152049</th>\n      <td>Klay Thompson</td>\n      <td>202691</td>\n    </tr>\n    <tr>\n      <th>152050</th>\n      <td>Klay Thompson</td>\n      <td>202691</td>\n    </tr>\n    <tr>\n      <th>152051</th>\n      <td>Klay Thompson</td>\n      <td>202691</td>\n    </tr>\n    <tr>\n      <th>152052</th>\n      <td>Klay Thompson</td>\n      <td>202691</td>\n    </tr>\n    <tr>\n      <th>152053</th>\n      <td>Klay Thompson</td>\n      <td>202691</td>\n    </tr>\n    <tr>\n      <th>...</th>\n      <td>...</td>\n      <td>...</td>\n    </tr>\n    <tr>\n      <th>153266</th>\n      <td>Klay Thompson</td>\n      <td>202691</td>\n    </tr>\n    <tr>\n      <th>153267</th>\n      <td>Klay Thompson</td>\n      <td>202691</td>\n    </tr>\n    <tr>\n      <th>153268</th>\n      <td>Klay Thompson</td>\n      <td>202691</td>\n    </tr>\n    <tr>\n      <th>153269</th>\n      <td>Klay Thompson</td>\n      <td>202691</td>\n    </tr>\n    <tr>\n      <th>153270</th>\n      <td>Klay Thompson</td>\n      <td>202691</td>\n    </tr>\n  </tbody>\n</table>\n<p>1222 rows × 2 columns</p>\n</div>"
     },
     "metadata": {},
     "execution_count": 19
    }
   ],
   "source": [
    "df[df['PLAYER_NAME']=='Klay Thompson']"
   ]
  }
 ]
}