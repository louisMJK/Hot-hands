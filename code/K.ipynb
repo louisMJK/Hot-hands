{
 "metadata": {
  "language_info": {
   "codemirror_mode": {
    "name": "ipython",
    "version": 3
   },
   "file_extension": ".py",
   "mimetype": "text/x-python",
   "name": "python",
   "nbconvert_exporter": "python",
   "pygments_lexer": "ipython3",
   "version": "3.7.0-final"
  },
  "orig_nbformat": 2,
  "kernelspec": {
   "name": "python37064bit614aec88312f471fb0143ff3b91557ee",
   "display_name": "Python 3.7.0 64-bit",
   "language": "python"
  }
 },
 "nbformat": 4,
 "nbformat_minor": 2,
 "cells": [
  {
   "cell_type": "code",
   "execution_count": 1,
   "metadata": {},
   "outputs": [],
   "source": [
    "import pandas as pd\n",
    "import numpy as np"
   ]
  },
  {
   "cell_type": "code",
   "execution_count": 2,
   "metadata": {},
   "outputs": [],
   "source": [
    "path = 'E:\\\\repo\\\\Hot-hands\\\\data\\\\shots_13-14.csv'\n",
    "df = pd.read_csv(path)"
   ]
  },
  {
   "cell_type": "code",
   "execution_count": 3,
   "metadata": {},
   "outputs": [
    {
     "output_type": "execute_result",
     "data": {
      "text/plain": [
       "    GAME_ID  PTS  PTS_TYPE  SHOT_NUMBER  SHOT_MADE_FLAG  PLAYER_ID\n",
       "0  21300004    0         2            1               0        708\n",
       "1  21300004    2         2            2               1        708\n",
       "2  21300004    0         2            3               0        708\n",
       "3  21300004    2         2            4               1        708\n",
       "4  21300004    0         2            5               0        708"
      ],
      "text/html": "<div>\n<style scoped>\n    .dataframe tbody tr th:only-of-type {\n        vertical-align: middle;\n    }\n\n    .dataframe tbody tr th {\n        vertical-align: top;\n    }\n\n    .dataframe thead th {\n        text-align: right;\n    }\n</style>\n<table border=\"1\" class=\"dataframe\">\n  <thead>\n    <tr style=\"text-align: right;\">\n      <th></th>\n      <th>GAME_ID</th>\n      <th>PTS</th>\n      <th>PTS_TYPE</th>\n      <th>SHOT_NUMBER</th>\n      <th>SHOT_MADE_FLAG</th>\n      <th>PLAYER_ID</th>\n    </tr>\n  </thead>\n  <tbody>\n    <tr>\n      <th>0</th>\n      <td>21300004</td>\n      <td>0</td>\n      <td>2</td>\n      <td>1</td>\n      <td>0</td>\n      <td>708</td>\n    </tr>\n    <tr>\n      <th>1</th>\n      <td>21300004</td>\n      <td>2</td>\n      <td>2</td>\n      <td>2</td>\n      <td>1</td>\n      <td>708</td>\n    </tr>\n    <tr>\n      <th>2</th>\n      <td>21300004</td>\n      <td>0</td>\n      <td>2</td>\n      <td>3</td>\n      <td>0</td>\n      <td>708</td>\n    </tr>\n    <tr>\n      <th>3</th>\n      <td>21300004</td>\n      <td>2</td>\n      <td>2</td>\n      <td>4</td>\n      <td>1</td>\n      <td>708</td>\n    </tr>\n    <tr>\n      <th>4</th>\n      <td>21300004</td>\n      <td>0</td>\n      <td>2</td>\n      <td>5</td>\n      <td>0</td>\n      <td>708</td>\n    </tr>\n  </tbody>\n</table>\n</div>"
     },
     "metadata": {},
     "execution_count": 3
    }
   ],
   "source": [
    "df_1 = df[['GAME_ID','PTS','PTS_TYPE','SHOT_NUMBER','SHOT_MADE_FLAG','PLAYER_ID']]\n",
    "df_1.head()"
   ]
  },
  {
   "cell_type": "code",
   "execution_count": 4,
   "metadata": {
    "tags": []
   },
   "outputs": [],
   "source": [
    "df_k = pd.DataFrame(np.zeros((54490,2)), columns=['PLAYER_ID','K'])\n",
    "m = 0\n",
    "i = 1\n",
    "flag = 0\n",
    "while i in range(1,df_1.shape[0]):\n",
    "    k = 0\n",
    "    if df_1['SHOT_MADE_FLAG'][i]-df_1['SHOT_MADE_FLAG'][i-1]==1 or flag==1:\n",
    "        flag = 0\n",
    "        while df_1['SHOT_MADE_FLAG'][i]==1:\n",
    "            k = k + 1\n",
    "            i = i + 1\n",
    "            if df_1['SHOT_MADE_FLAG'][i]==1 and df_1['GAME_ID'][i]!=df_1['GAME_ID'][i-1]:\n",
    "                flag = 1\n",
    "                break\n",
    "        df_k['PLAYER_ID'][m] = df_1['PLAYER_ID'][i-1]\n",
    "        df_k['K'][m] = k\n",
    "        k = 0\n",
    "        m += 1\n",
    "    else:\n",
    "        i += 1\n",
    "df_k['PLAYER_ID'] = df_k['PLAYER_ID'].astype(int)\n",
    "df_k['K'] = df_k['K'].astype(int)"
   ]
  },
  {
   "cell_type": "code",
   "execution_count": 7,
   "metadata": {
    "tags": []
   },
   "outputs": [
    {
     "output_type": "execute_result",
     "data": {
      "text/plain": [
       "1.6765094512754635"
      ]
     },
     "metadata": {},
     "execution_count": 7
    }
   ],
   "source": [
    "np.mean(df_k['K'])"
   ]
  },
  {
   "cell_type": "code",
   "execution_count": 8,
   "metadata": {},
   "outputs": [],
   "source": [
    "df_k.to_csv('E:\\\\repo\\\\Hot-hands\\\\result\\\\ID_K.csv',index=False)"
   ]
  }
 ]
}