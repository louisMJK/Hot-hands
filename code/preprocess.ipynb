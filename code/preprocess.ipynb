{
 "metadata": {
  "language_info": {
   "codemirror_mode": {
    "name": "ipython",
    "version": 3
   },
   "file_extension": ".py",
   "mimetype": "text/x-python",
   "name": "python",
   "nbconvert_exporter": "python",
   "pygments_lexer": "ipython3",
   "version": "3.7.0-final"
  },
  "orig_nbformat": 2,
  "kernelspec": {
   "name": "python37064bit614aec88312f471fb0143ff3b91557ee",
   "display_name": "Python 3.7.0 64-bit",
   "language": "python"
  }
 },
 "nbformat": 4,
 "nbformat_minor": 2,
 "cells": [
  {
   "cell_type": "code",
   "execution_count": 22,
   "metadata": {},
   "outputs": [],
   "source": [
    "import pandas as pd\n",
    "import numpy as np"
   ]
  },
  {
   "cell_type": "code",
   "execution_count": 23,
   "metadata": {},
   "outputs": [],
   "source": [
    "path = 'E:\\\\repo\\\\Hot-hands\\\\data\\\\shots_13-14.csv'\n",
    "df = pd.read_csv(path)"
   ]
  },
  {
   "cell_type": "code",
   "execution_count": 25,
   "metadata": {},
   "outputs": [
    {
     "output_type": "execute_result",
     "data": {
      "text/plain": [
       "     GAME_ID  PTS  PTS_TYPE  SHOT_NUMBER  SHOT_MADE_FLAG  PLAYER_ID\n",
       "0   21300165    0         2            1               0     202779\n",
       "1   21300165    3         3            2               1     202779\n",
       "2   21300165    0         3            3               0     202779\n",
       "3   21300165    0         3            4               0     202779\n",
       "4   21300230    3         3            1               1     202779\n",
       "5   21300230    0         2            2               0     202779\n",
       "6   21300230    0         3            3               0     202779\n",
       "7   21300103    0         2            1               0     202779\n",
       "8   21300103    0         2            2               0     202779\n",
       "9   21300103    2         2            3               1     202779\n",
       "10  21300103    2         2            4               1     202779\n",
       "11  21300103    0         2            5               0     202779\n",
       "12  21300103    0         3            6               0     202779\n",
       "13  21300074    2         2            1               1     202779\n",
       "14  21300114    0         2            1               0     202779\n",
       "15  21300147    2         2            1               1     202779\n",
       "16  21300147    0         2            2               0     202779\n",
       "17  21300147    2         2            3               1     202779\n",
       "18  21300085    0         2            1               0     202779\n",
       "19  21300085    0         3            2               0     202779\n",
       "20  21300085    2         2            3               1     202779\n",
       "21  21300023    3         3            1               1     202779\n",
       "22  21300023    0         2            2               0     202779\n",
       "23  21300023    0         2            3               0     202779\n",
       "24  21300312    3         3            1               1     202779\n",
       "25  21300312    0         2            2               0     202779\n",
       "26  21300312    0         2            3               0     202779\n",
       "27  21300312    0         2            4               0     202779\n",
       "28  21300312    0         2            5               0     202779\n",
       "29  21300312    2         2            6               1     202779"
      ],
      "text/html": "<div>\n<style scoped>\n    .dataframe tbody tr th:only-of-type {\n        vertical-align: middle;\n    }\n\n    .dataframe tbody tr th {\n        vertical-align: top;\n    }\n\n    .dataframe thead th {\n        text-align: right;\n    }\n</style>\n<table border=\"1\" class=\"dataframe\">\n  <thead>\n    <tr style=\"text-align: right;\">\n      <th></th>\n      <th>GAME_ID</th>\n      <th>PTS</th>\n      <th>PTS_TYPE</th>\n      <th>SHOT_NUMBER</th>\n      <th>SHOT_MADE_FLAG</th>\n      <th>PLAYER_ID</th>\n    </tr>\n  </thead>\n  <tbody>\n    <tr>\n      <th>0</th>\n      <td>21300165</td>\n      <td>0</td>\n      <td>2</td>\n      <td>1</td>\n      <td>0</td>\n      <td>202779</td>\n    </tr>\n    <tr>\n      <th>1</th>\n      <td>21300165</td>\n      <td>3</td>\n      <td>3</td>\n      <td>2</td>\n      <td>1</td>\n      <td>202779</td>\n    </tr>\n    <tr>\n      <th>2</th>\n      <td>21300165</td>\n      <td>0</td>\n      <td>3</td>\n      <td>3</td>\n      <td>0</td>\n      <td>202779</td>\n    </tr>\n    <tr>\n      <th>3</th>\n      <td>21300165</td>\n      <td>0</td>\n      <td>3</td>\n      <td>4</td>\n      <td>0</td>\n      <td>202779</td>\n    </tr>\n    <tr>\n      <th>4</th>\n      <td>21300230</td>\n      <td>3</td>\n      <td>3</td>\n      <td>1</td>\n      <td>1</td>\n      <td>202779</td>\n    </tr>\n    <tr>\n      <th>5</th>\n      <td>21300230</td>\n      <td>0</td>\n      <td>2</td>\n      <td>2</td>\n      <td>0</td>\n      <td>202779</td>\n    </tr>\n    <tr>\n      <th>6</th>\n      <td>21300230</td>\n      <td>0</td>\n      <td>3</td>\n      <td>3</td>\n      <td>0</td>\n      <td>202779</td>\n    </tr>\n    <tr>\n      <th>7</th>\n      <td>21300103</td>\n      <td>0</td>\n      <td>2</td>\n      <td>1</td>\n      <td>0</td>\n      <td>202779</td>\n    </tr>\n    <tr>\n      <th>8</th>\n      <td>21300103</td>\n      <td>0</td>\n      <td>2</td>\n      <td>2</td>\n      <td>0</td>\n      <td>202779</td>\n    </tr>\n    <tr>\n      <th>9</th>\n      <td>21300103</td>\n      <td>2</td>\n      <td>2</td>\n      <td>3</td>\n      <td>1</td>\n      <td>202779</td>\n    </tr>\n    <tr>\n      <th>10</th>\n      <td>21300103</td>\n      <td>2</td>\n      <td>2</td>\n      <td>4</td>\n      <td>1</td>\n      <td>202779</td>\n    </tr>\n    <tr>\n      <th>11</th>\n      <td>21300103</td>\n      <td>0</td>\n      <td>2</td>\n      <td>5</td>\n      <td>0</td>\n      <td>202779</td>\n    </tr>\n    <tr>\n      <th>12</th>\n      <td>21300103</td>\n      <td>0</td>\n      <td>3</td>\n      <td>6</td>\n      <td>0</td>\n      <td>202779</td>\n    </tr>\n    <tr>\n      <th>13</th>\n      <td>21300074</td>\n      <td>2</td>\n      <td>2</td>\n      <td>1</td>\n      <td>1</td>\n      <td>202779</td>\n    </tr>\n    <tr>\n      <th>14</th>\n      <td>21300114</td>\n      <td>0</td>\n      <td>2</td>\n      <td>1</td>\n      <td>0</td>\n      <td>202779</td>\n    </tr>\n    <tr>\n      <th>15</th>\n      <td>21300147</td>\n      <td>2</td>\n      <td>2</td>\n      <td>1</td>\n      <td>1</td>\n      <td>202779</td>\n    </tr>\n    <tr>\n      <th>16</th>\n      <td>21300147</td>\n      <td>0</td>\n      <td>2</td>\n      <td>2</td>\n      <td>0</td>\n      <td>202779</td>\n    </tr>\n    <tr>\n      <th>17</th>\n      <td>21300147</td>\n      <td>2</td>\n      <td>2</td>\n      <td>3</td>\n      <td>1</td>\n      <td>202779</td>\n    </tr>\n    <tr>\n      <th>18</th>\n      <td>21300085</td>\n      <td>0</td>\n      <td>2</td>\n      <td>1</td>\n      <td>0</td>\n      <td>202779</td>\n    </tr>\n    <tr>\n      <th>19</th>\n      <td>21300085</td>\n      <td>0</td>\n      <td>3</td>\n      <td>2</td>\n      <td>0</td>\n      <td>202779</td>\n    </tr>\n    <tr>\n      <th>20</th>\n      <td>21300085</td>\n      <td>2</td>\n      <td>2</td>\n      <td>3</td>\n      <td>1</td>\n      <td>202779</td>\n    </tr>\n    <tr>\n      <th>21</th>\n      <td>21300023</td>\n      <td>3</td>\n      <td>3</td>\n      <td>1</td>\n      <td>1</td>\n      <td>202779</td>\n    </tr>\n    <tr>\n      <th>22</th>\n      <td>21300023</td>\n      <td>0</td>\n      <td>2</td>\n      <td>2</td>\n      <td>0</td>\n      <td>202779</td>\n    </tr>\n    <tr>\n      <th>23</th>\n      <td>21300023</td>\n      <td>0</td>\n      <td>2</td>\n      <td>3</td>\n      <td>0</td>\n      <td>202779</td>\n    </tr>\n    <tr>\n      <th>24</th>\n      <td>21300312</td>\n      <td>3</td>\n      <td>3</td>\n      <td>1</td>\n      <td>1</td>\n      <td>202779</td>\n    </tr>\n    <tr>\n      <th>25</th>\n      <td>21300312</td>\n      <td>0</td>\n      <td>2</td>\n      <td>2</td>\n      <td>0</td>\n      <td>202779</td>\n    </tr>\n    <tr>\n      <th>26</th>\n      <td>21300312</td>\n      <td>0</td>\n      <td>2</td>\n      <td>3</td>\n      <td>0</td>\n      <td>202779</td>\n    </tr>\n    <tr>\n      <th>27</th>\n      <td>21300312</td>\n      <td>0</td>\n      <td>2</td>\n      <td>4</td>\n      <td>0</td>\n      <td>202779</td>\n    </tr>\n    <tr>\n      <th>28</th>\n      <td>21300312</td>\n      <td>0</td>\n      <td>2</td>\n      <td>5</td>\n      <td>0</td>\n      <td>202779</td>\n    </tr>\n    <tr>\n      <th>29</th>\n      <td>21300312</td>\n      <td>2</td>\n      <td>2</td>\n      <td>6</td>\n      <td>1</td>\n      <td>202779</td>\n    </tr>\n  </tbody>\n</table>\n</div>"
     },
     "metadata": {},
     "execution_count": 25
    }
   ],
   "source": [
    "df_1 = df[['PTS','PTS_TYPE','SHOT_NUMBER','SHOT_MADE_FLAG','PLAYER_ID']]\n",
    "df_1.head(30)"
   ]
  },
  {
   "cell_type": "code",
   "execution_count": 20,
   "metadata": {},
   "outputs": [
    {
     "output_type": "execute_result",
     "data": {
      "text/plain": [
       "Empty DataFrame\n",
       "Columns: [PLAYER_ID, K]\n",
       "Index: []"
      ],
      "text/html": "<div>\n<style scoped>\n    .dataframe tbody tr th:only-of-type {\n        vertical-align: middle;\n    }\n\n    .dataframe tbody tr th {\n        vertical-align: top;\n    }\n\n    .dataframe thead th {\n        text-align: right;\n    }\n</style>\n<table border=\"1\" class=\"dataframe\">\n  <thead>\n    <tr style=\"text-align: right;\">\n      <th></th>\n      <th>PLAYER_ID</th>\n      <th>K</th>\n    </tr>\n  </thead>\n  <tbody>\n  </tbody>\n</table>\n</div>"
     },
     "metadata": {},
     "execution_count": 20
    }
   ],
   "source": [
    "df = pd.DataFrame(columns=['PLAYER_ID','K'])\n",
    "m = 0\n",
    "for i in range(df_1.shape[0]):\n",
    "    id = df_1['PLAYER_ID'][i]\n",
    "    k = 0\n",
    "    while(df_1[''])"
   ]
  },
  {
   "cell_type": "code",
   "execution_count": null,
   "metadata": {},
   "outputs": [],
   "source": []
  }
 ]
}